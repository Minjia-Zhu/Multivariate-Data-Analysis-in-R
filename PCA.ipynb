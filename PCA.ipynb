{
 "cells": [
  {
   "cell_type": "code",
   "execution_count": 154,
   "metadata": {},
   "outputs": [],
   "source": [
    "setwd(\"~/Desktop/hw2\")\n",
    "options(digits=3)\n",
    "#Utility function for ploting pac Chart\n",
    "pcaCharts <- function(x) {\n",
    "  x.var <- x$sdev ^ 2\n",
    "  x.pvar <- x.var/sum(x.var)\n",
    "  print(\"proportions of variance:\")\n",
    "  print(x.pvar)\n",
    "  \n",
    "  par(mfrow=c(2,2))\n",
    "  plot(x.pvar,xlab=\"Principal component\", \n",
    "       ylab=\"Proportion of variance explained\", ylim=c(0,1), type='b')\n",
    "  plot(cumsum(x.pvar),xlab=\"Principal component\", \n",
    "       ylab=\"Cumulative Proportion of variance explained\", ylim=c(0,1), type='b')\n",
    "  screeplot(x)\n",
    "  screeplot(x,type=\"l\")\n",
    "  par(mfrow=c(1,1))\n",
    "}"
   ]
  },
  {
   "cell_type": "markdown",
   "metadata": {},
   "source": [
    "# Question 1"
   ]
  },
  {
   "cell_type": "code",
   "execution_count": 23,
   "metadata": {},
   "outputs": [],
   "source": [
    "track = read.table(\"p1.txt\")\n",
    "colnames(track) = c(\"Country\",\"100m\",\"200m\",\"400m\",\"800m\",\"1500m\",\"3000m\",\"Marathon\")\n",
    "CountryClasses <- factor(track$Country)\n",
    "X <- data.matrix(track[-1])\n",
    "n <- nrow(X)\n",
    "p <- ncol(X)"
   ]
  },
  {
   "cell_type": "markdown",
   "metadata": {},
   "source": [
    "__(a)__"
   ]
  },
  {
   "cell_type": "code",
   "execution_count": 24,
   "metadata": {},
   "outputs": [
    {
     "data": {
      "text/html": [
       "<table>\n",
       "<thead><tr><th scope=col>100m</th><th scope=col>200m</th><th scope=col>400m</th><th scope=col>800m</th><th scope=col>1500m</th><th scope=col>3000m</th><th scope=col>Marathon</th></tr></thead>\n",
       "<tbody>\n",
       "\t<tr><td>11.4</td><td>23.1</td><td>52  </td><td>2.02</td><td>4.19</td><td>9.08</td><td>154 </td></tr>\n",
       "</tbody>\n",
       "</table>\n"
      ],
      "text/latex": [
       "\\begin{tabular}{lllllll}\n",
       " 100m & 200m & 400m & 800m & 1500m & 3000m & Marathon\\\\\n",
       "\\hline\n",
       "\t 11.4 & 23.1 & 52   & 2.02 & 4.19 & 9.08 & 154 \\\\\n",
       "\\end{tabular}\n"
      ],
      "text/markdown": [
       "\n",
       "100m | 200m | 400m | 800m | 1500m | 3000m | Marathon | \n",
       "|---|\n",
       "| 11.4 | 23.1 | 52   | 2.02 | 4.19 | 9.08 | 154  | \n",
       "\n",
       "\n"
      ],
      "text/plain": [
       "     100m 200m 400m 800m 1500m 3000m Marathon\n",
       "[1,] 11.4 23.1 52   2.02 4.19  9.08  154     "
      ]
     },
     "metadata": {},
     "output_type": "display_data"
    }
   ],
   "source": [
    "#X_mean <- (1/n)* t(X) %*% matrix(1, n, 1)\n",
    "X_mean <- colMeans(X)\n",
    "t(X_mean)"
   ]
  },
  {
   "cell_type": "markdown",
   "metadata": {},
   "source": [
    "__Table 1__: Sample Mean <br>\n",
    "Sample mean is meaningful for all variables after transfer all unit in seconds "
   ]
  },
  {
   "cell_type": "markdown",
   "metadata": {},
   "source": [
    "__(b)__"
   ]
  },
  {
   "cell_type": "code",
   "execution_count": 25,
   "metadata": {},
   "outputs": [
    {
     "data": {
      "text/html": [
       "<table>\n",
       "<thead><tr><th></th><th scope=col>100m</th><th scope=col>200m</th><th scope=col>400m</th><th scope=col>800m</th><th scope=col>1500m</th><th scope=col>3000m</th><th scope=col>Marathon</th></tr></thead>\n",
       "<tbody>\n",
       "\t<tr><th scope=row>100m</th><td>0.1553 </td><td> 0.3446</td><td> 0.893 </td><td>0.02770</td><td>0.0879 </td><td> 0.2339</td><td>  4.36 </td></tr>\n",
       "\t<tr><th scope=row>200m</th><td>0.3446 </td><td> 0.8631</td><td> 2.197 </td><td>0.06617</td><td>0.2100 </td><td> 0.5544</td><td> 10.44 </td></tr>\n",
       "\t<tr><th scope=row>400m</th><td>0.8934 </td><td> 2.1972</td><td> 6.761 </td><td>0.18201</td><td>0.5205 </td><td> 1.4284</td><td> 29.03 </td></tr>\n",
       "\t<tr><th scope=row>800m</th><td>0.0277 </td><td> 0.0662</td><td> 0.182 </td><td>0.00755</td><td>0.0219 </td><td> 0.0614</td><td>  1.22 </td></tr>\n",
       "\t<tr><th scope=row>1500m</th><td>0.0879 </td><td> 0.2100</td><td> 0.521 </td><td>0.02189</td><td>0.0987 </td><td> 0.2436</td><td>  3.27 </td></tr>\n",
       "\t<tr><th scope=row>3000m</th><td>0.2339 </td><td> 0.5544</td><td> 1.428 </td><td>0.06138</td><td>0.2436 </td><td> 0.6648</td><td> 10.73 </td></tr>\n",
       "\t<tr><th scope=row>Marathon</th><td>4.3597 </td><td>10.4373</td><td>29.031 </td><td>1.22208</td><td>3.2680 </td><td>10.7252</td><td>271.05 </td></tr>\n",
       "</tbody>\n",
       "</table>\n"
      ],
      "text/latex": [
       "\\begin{tabular}{r|lllllll}\n",
       "  & 100m & 200m & 400m & 800m & 1500m & 3000m & Marathon\\\\\n",
       "\\hline\n",
       "\t100m & 0.1553  &  0.3446 &  0.893  & 0.02770 & 0.0879  &  0.2339 &   4.36 \\\\\n",
       "\t200m & 0.3446  &  0.8631 &  2.197  & 0.06617 & 0.2100  &  0.5544 &  10.44 \\\\\n",
       "\t400m & 0.8934  &  2.1972 &  6.761  & 0.18201 & 0.5205  &  1.4284 &  29.03 \\\\\n",
       "\t800m & 0.0277  &  0.0662 &  0.182  & 0.00755 & 0.0219  &  0.0614 &   1.22 \\\\\n",
       "\t1500m & 0.0879  &  0.2100 &  0.521  & 0.02189 & 0.0987  &  0.2436 &   3.27 \\\\\n",
       "\t3000m & 0.2339  &  0.5544 &  1.428  & 0.06138 & 0.2436  &  0.6648 &  10.73 \\\\\n",
       "\tMarathon & 4.3597  & 10.4373 & 29.031  & 1.22208 & 3.2680  & 10.7252 & 271.05 \\\\\n",
       "\\end{tabular}\n"
      ],
      "text/markdown": [
       "\n",
       "| <!--/--> | 100m | 200m | 400m | 800m | 1500m | 3000m | Marathon | \n",
       "|---|---|---|---|---|---|---|\n",
       "| 100m | 0.1553  |  0.3446 |  0.893  | 0.02770 | 0.0879  |  0.2339 |   4.36  | \n",
       "| 200m | 0.3446  |  0.8631 |  2.197  | 0.06617 | 0.2100  |  0.5544 |  10.44  | \n",
       "| 400m | 0.8934  |  2.1972 |  6.761  | 0.18201 | 0.5205  |  1.4284 |  29.03  | \n",
       "| 800m | 0.0277  |  0.0662 |  0.182  | 0.00755 | 0.0219  |  0.0614 |   1.22  | \n",
       "| 1500m | 0.0879  |  0.2100 |  0.521  | 0.02189 | 0.0987  |  0.2436 |   3.27  | \n",
       "| 3000m | 0.2339  |  0.5544 |  1.428  | 0.06138 | 0.2436  |  0.6648 |  10.73  | \n",
       "| Marathon | 4.3597  | 10.4373 | 29.031  | 1.22208 | 3.2680  | 10.7252 | 271.05  | \n",
       "\n",
       "\n"
      ],
      "text/plain": [
       "         100m   200m    400m   800m    1500m  3000m   Marathon\n",
       "100m     0.1553  0.3446  0.893 0.02770 0.0879  0.2339   4.36  \n",
       "200m     0.3446  0.8631  2.197 0.06617 0.2100  0.5544  10.44  \n",
       "400m     0.8934  2.1972  6.761 0.18201 0.5205  1.4284  29.03  \n",
       "800m     0.0277  0.0662  0.182 0.00755 0.0219  0.0614   1.22  \n",
       "1500m    0.0879  0.2100  0.521 0.02189 0.0987  0.2436   3.27  \n",
       "3000m    0.2339  0.5544  1.428 0.06138 0.2436  0.6648  10.73  \n",
       "Marathon 4.3597 10.4373 29.031 1.22208 3.2680 10.7252 271.05  "
      ]
     },
     "metadata": {},
     "output_type": "display_data"
    }
   ],
   "source": [
    "X_center = X - matrix(1, n, 1) %*% t(X_mean)\n",
    "#S <- (1/(n-1)) * t(X_center) %*% X_center\n",
    "S <- cov(X)\n",
    "S"
   ]
  },
  {
   "cell_type": "markdown",
   "metadata": {},
   "source": [
    "__Table 2__:Sample Cov Matrix"
   ]
  },
  {
   "cell_type": "code",
   "execution_count": 28,
   "metadata": {},
   "outputs": [
    {
     "data": {
      "text/html": [
       "<table>\n",
       "<thead><tr><th></th><th scope=col>100m</th><th scope=col>200m</th><th scope=col>400m</th><th scope=col>800m</th><th scope=col>1500m</th><th scope=col>3000m</th><th scope=col>Marathon</th></tr></thead>\n",
       "<tbody>\n",
       "\t<tr><th scope=row>100m</th><td>1.000</td><td>0.941</td><td>0.872</td><td>0.809</td><td>0.710</td><td>0.728</td><td>0.672</td></tr>\n",
       "\t<tr><th scope=row>200m</th><td>0.941</td><td>1.000</td><td>0.910</td><td>0.820</td><td>0.720</td><td>0.732</td><td>0.682</td></tr>\n",
       "\t<tr><th scope=row>400m</th><td>0.872</td><td>0.910</td><td>1.000</td><td>0.806</td><td>0.637</td><td>0.674</td><td>0.678</td></tr>\n",
       "\t<tr><th scope=row>800m</th><td>0.809</td><td>0.820</td><td>0.806</td><td>1.000</td><td>0.802</td><td>0.867</td><td>0.854</td></tr>\n",
       "\t<tr><th scope=row>1500m</th><td>0.710</td><td>0.720</td><td>0.637</td><td>0.802</td><td>1.000</td><td>0.951</td><td>0.632</td></tr>\n",
       "\t<tr><th scope=row>3000m</th><td>0.728</td><td>0.732</td><td>0.674</td><td>0.867</td><td>0.951</td><td>1.000</td><td>0.799</td></tr>\n",
       "\t<tr><th scope=row>Marathon</th><td>0.672</td><td>0.682</td><td>0.678</td><td>0.854</td><td>0.632</td><td>0.799</td><td>1.000</td></tr>\n",
       "</tbody>\n",
       "</table>\n"
      ],
      "text/latex": [
       "\\begin{tabular}{r|lllllll}\n",
       "  & 100m & 200m & 400m & 800m & 1500m & 3000m & Marathon\\\\\n",
       "\\hline\n",
       "\t100m & 1.000 & 0.941 & 0.872 & 0.809 & 0.710 & 0.728 & 0.672\\\\\n",
       "\t200m & 0.941 & 1.000 & 0.910 & 0.820 & 0.720 & 0.732 & 0.682\\\\\n",
       "\t400m & 0.872 & 0.910 & 1.000 & 0.806 & 0.637 & 0.674 & 0.678\\\\\n",
       "\t800m & 0.809 & 0.820 & 0.806 & 1.000 & 0.802 & 0.867 & 0.854\\\\\n",
       "\t1500m & 0.710 & 0.720 & 0.637 & 0.802 & 1.000 & 0.951 & 0.632\\\\\n",
       "\t3000m & 0.728 & 0.732 & 0.674 & 0.867 & 0.951 & 1.000 & 0.799\\\\\n",
       "\tMarathon & 0.672 & 0.682 & 0.678 & 0.854 & 0.632 & 0.799 & 1.000\\\\\n",
       "\\end{tabular}\n"
      ],
      "text/markdown": [
       "\n",
       "| <!--/--> | 100m | 200m | 400m | 800m | 1500m | 3000m | Marathon | \n",
       "|---|---|---|---|---|---|---|\n",
       "| 100m | 1.000 | 0.941 | 0.872 | 0.809 | 0.710 | 0.728 | 0.672 | \n",
       "| 200m | 0.941 | 1.000 | 0.910 | 0.820 | 0.720 | 0.732 | 0.682 | \n",
       "| 400m | 0.872 | 0.910 | 1.000 | 0.806 | 0.637 | 0.674 | 0.678 | \n",
       "| 800m | 0.809 | 0.820 | 0.806 | 1.000 | 0.802 | 0.867 | 0.854 | \n",
       "| 1500m | 0.710 | 0.720 | 0.637 | 0.802 | 1.000 | 0.951 | 0.632 | \n",
       "| 3000m | 0.728 | 0.732 | 0.674 | 0.867 | 0.951 | 1.000 | 0.799 | \n",
       "| Marathon | 0.672 | 0.682 | 0.678 | 0.854 | 0.632 | 0.799 | 1.000 | \n",
       "\n",
       "\n"
      ],
      "text/plain": [
       "         100m  200m  400m  800m  1500m 3000m Marathon\n",
       "100m     1.000 0.941 0.872 0.809 0.710 0.728 0.672   \n",
       "200m     0.941 1.000 0.910 0.820 0.720 0.732 0.682   \n",
       "400m     0.872 0.910 1.000 0.806 0.637 0.674 0.678   \n",
       "800m     0.809 0.820 0.806 1.000 0.802 0.867 0.854   \n",
       "1500m    0.710 0.720 0.637 0.802 1.000 0.951 0.632   \n",
       "3000m    0.728 0.732 0.674 0.867 0.951 1.000 0.799   \n",
       "Marathon 0.672 0.682 0.678 0.854 0.632 0.799 1.000   "
      ]
     },
     "metadata": {},
     "output_type": "display_data"
    }
   ],
   "source": [
    "#D <- diag(1/diag(S))\n",
    "#R1 <- D^(0.5) %*% S %*% D^(0.5)\n",
    "R <- cor(X)\n",
    "R"
   ]
  },
  {
   "cell_type": "markdown",
   "metadata": {},
   "source": [
    "__Table 3__:Sample Corr Matrix"
   ]
  },
  {
   "cell_type": "markdown",
   "metadata": {},
   "source": [
    "__(c)__"
   ]
  },
  {
   "cell_type": "code",
   "execution_count": 29,
   "metadata": {},
   "outputs": [
    {
     "data": {
      "text/html": [
       "<table>\n",
       "<thead><tr><th></th><th scope=col>100m</th><th scope=col>200m</th><th scope=col>400m</th><th scope=col>800m</th><th scope=col>1500m</th><th scope=col>3000m</th><th scope=col>Marathon</th></tr></thead>\n",
       "<tbody>\n",
       "\t<tr><th scope=row>100m</th><td>1.000</td><td>0.940</td><td>0.870</td><td>0.803</td><td>0.720</td><td>0.730</td><td>0.670</td></tr>\n",
       "\t<tr><th scope=row>200m</th><td>0.940</td><td>1.000</td><td>0.908</td><td>0.818</td><td>0.736</td><td>0.739</td><td>0.682</td></tr>\n",
       "\t<tr><th scope=row>400m</th><td>0.870</td><td>0.908</td><td>1.000</td><td>0.805</td><td>0.660</td><td>0.687</td><td>0.677</td></tr>\n",
       "\t<tr><th scope=row>800m</th><td>0.803</td><td>0.818</td><td>0.805</td><td>1.000</td><td>0.816</td><td>0.873</td><td>0.855</td></tr>\n",
       "\t<tr><th scope=row>1500m</th><td>0.720</td><td>0.736</td><td>0.660</td><td>0.816</td><td>1.000</td><td>0.946</td><td>0.671</td></tr>\n",
       "\t<tr><th scope=row>3000m</th><td>0.730</td><td>0.739</td><td>0.687</td><td>0.873</td><td>0.946</td><td>1.000</td><td>0.831</td></tr>\n",
       "\t<tr><th scope=row>Marathon</th><td>0.670</td><td>0.682</td><td>0.677</td><td>0.855</td><td>0.671</td><td>0.831</td><td>1.000</td></tr>\n",
       "</tbody>\n",
       "</table>\n"
      ],
      "text/latex": [
       "\\begin{tabular}{r|lllllll}\n",
       "  & 100m & 200m & 400m & 800m & 1500m & 3000m & Marathon\\\\\n",
       "\\hline\n",
       "\t100m & 1.000 & 0.940 & 0.870 & 0.803 & 0.720 & 0.730 & 0.670\\\\\n",
       "\t200m & 0.940 & 1.000 & 0.908 & 0.818 & 0.736 & 0.739 & 0.682\\\\\n",
       "\t400m & 0.870 & 0.908 & 1.000 & 0.805 & 0.660 & 0.687 & 0.677\\\\\n",
       "\t800m & 0.803 & 0.818 & 0.805 & 1.000 & 0.816 & 0.873 & 0.855\\\\\n",
       "\t1500m & 0.720 & 0.736 & 0.660 & 0.816 & 1.000 & 0.946 & 0.671\\\\\n",
       "\t3000m & 0.730 & 0.739 & 0.687 & 0.873 & 0.946 & 1.000 & 0.831\\\\\n",
       "\tMarathon & 0.670 & 0.682 & 0.677 & 0.855 & 0.671 & 0.831 & 1.000\\\\\n",
       "\\end{tabular}\n"
      ],
      "text/markdown": [
       "\n",
       "| <!--/--> | 100m | 200m | 400m | 800m | 1500m | 3000m | Marathon | \n",
       "|---|---|---|---|---|---|---|\n",
       "| 100m | 1.000 | 0.940 | 0.870 | 0.803 | 0.720 | 0.730 | 0.670 | \n",
       "| 200m | 0.940 | 1.000 | 0.908 | 0.818 | 0.736 | 0.739 | 0.682 | \n",
       "| 400m | 0.870 | 0.908 | 1.000 | 0.805 | 0.660 | 0.687 | 0.677 | \n",
       "| 800m | 0.803 | 0.818 | 0.805 | 1.000 | 0.816 | 0.873 | 0.855 | \n",
       "| 1500m | 0.720 | 0.736 | 0.660 | 0.816 | 1.000 | 0.946 | 0.671 | \n",
       "| 3000m | 0.730 | 0.739 | 0.687 | 0.873 | 0.946 | 1.000 | 0.831 | \n",
       "| Marathon | 0.670 | 0.682 | 0.677 | 0.855 | 0.671 | 0.831 | 1.000 | \n",
       "\n",
       "\n"
      ],
      "text/plain": [
       "         100m  200m  400m  800m  1500m 3000m Marathon\n",
       "100m     1.000 0.940 0.870 0.803 0.720 0.730 0.670   \n",
       "200m     0.940 1.000 0.908 0.818 0.736 0.739 0.682   \n",
       "400m     0.870 0.908 1.000 0.805 0.660 0.687 0.677   \n",
       "800m     0.803 0.818 0.805 1.000 0.816 0.873 0.855   \n",
       "1500m    0.720 0.736 0.660 0.816 1.000 0.946 0.671   \n",
       "3000m    0.730 0.739 0.687 0.873 0.946 1.000 0.831   \n",
       "Marathon 0.670 0.682 0.677 0.855 0.671 0.831 1.000   "
      ]
     },
     "metadata": {},
     "output_type": "display_data"
    }
   ],
   "source": [
    "R_log <- cor(log(X))\n",
    "R_log"
   ]
  },
  {
   "cell_type": "markdown",
   "metadata": {},
   "source": [
    "__Table 3__:Sample Corr Matrix of log"
   ]
  },
  {
   "cell_type": "markdown",
   "metadata": {},
   "source": [
    "# Question 2"
   ]
  },
  {
   "cell_type": "markdown",
   "metadata": {},
   "source": [
    "Please refer to the writeup"
   ]
  },
  {
   "cell_type": "markdown",
   "metadata": {},
   "source": [
    "# Question 3"
   ]
  },
  {
   "cell_type": "markdown",
   "metadata": {},
   "source": [
    "__(a)__ Please refer to the writeup. Calcualtion shown as below"
   ]
  },
  {
   "cell_type": "code",
   "execution_count": 33,
   "metadata": {},
   "outputs": [
    {
     "data": {
      "text/html": [
       "<ol class=list-inline>\n",
       "\t<li>5.34292308277717</li>\n",
       "\t<li>3.47068341987116</li>\n",
       "\t<li>1.18639349735167</li>\n",
       "</ol>\n"
      ],
      "text/latex": [
       "\\begin{enumerate*}\n",
       "\\item 5.34292308277717\n",
       "\\item 3.47068341987116\n",
       "\\item 1.18639349735167\n",
       "\\end{enumerate*}\n"
      ],
      "text/markdown": [
       "1. 5.34292308277717\n",
       "2. 3.47068341987116\n",
       "3. 1.18639349735167\n",
       "\n",
       "\n"
      ],
      "text/plain": [
       "[1] 5.34 3.47 1.19"
      ]
     },
     "metadata": {},
     "output_type": "display_data"
    }
   ],
   "source": [
    "sigma = matrix(c(2,-1,1,-1,5,0,1,0,3),3,3)\n",
    "e3 <- eigen(sigma)\n",
    "e3$values"
   ]
  },
  {
   "cell_type": "code",
   "execution_count": 32,
   "metadata": {},
   "outputs": [
    {
     "data": {
      "text/html": [
       "<table>\n",
       "<tbody>\n",
       "\t<tr><td> 0.321</td><td>0.410 </td><td> 0.853</td></tr>\n",
       "\t<tr><td>-0.937</td><td>0.268 </td><td> 0.224</td></tr>\n",
       "\t<tr><td> 0.137</td><td>0.872 </td><td>-0.471</td></tr>\n",
       "</tbody>\n",
       "</table>\n"
      ],
      "text/latex": [
       "\\begin{tabular}{lll}\n",
       "\t  0.321 & 0.410  &  0.853\\\\\n",
       "\t -0.937 & 0.268  &  0.224\\\\\n",
       "\t  0.137 & 0.872  & -0.471\\\\\n",
       "\\end{tabular}\n"
      ],
      "text/markdown": [
       "\n",
       "|  0.321 | 0.410  |  0.853 | \n",
       "| -0.937 | 0.268  |  0.224 | \n",
       "|  0.137 | 0.872  | -0.471 | \n",
       "\n",
       "\n"
      ],
      "text/plain": [
       "     [,1]   [,2]  [,3]  \n",
       "[1,]  0.321 0.410  0.853\n",
       "[2,] -0.937 0.268  0.224\n",
       "[3,]  0.137 0.872 -0.471"
      ]
     },
     "metadata": {},
     "output_type": "display_data"
    }
   ],
   "source": [
    "e3$vectors"
   ]
  },
  {
   "cell_type": "markdown",
   "metadata": {},
   "source": [
    "# Question 4"
   ]
  },
  {
   "cell_type": "markdown",
   "metadata": {},
   "source": [
    "__(a)__"
   ]
  },
  {
   "cell_type": "code",
   "execution_count": 39,
   "metadata": {},
   "outputs": [
    {
     "name": "stdout",
     "output_type": "stream",
     "text": [
      "[1] \"eigenvalues are\"\n"
     ]
    },
    {
     "data": {
      "text/html": [
       "<ol class=list-inline>\n",
       "\t<li>5.66296523116828</li>\n",
       "\t<li>0.645444148906493</li>\n",
       "\t<li>0.405116105129661</li>\n",
       "\t<li>0.127071244215591</li>\n",
       "\t<li>0.0920123628311576</li>\n",
       "\t<li>0.05200208399397</li>\n",
       "\t<li>0.0153888237548378</li>\n",
       "</ol>\n"
      ],
      "text/latex": [
       "\\begin{enumerate*}\n",
       "\\item 5.66296523116828\n",
       "\\item 0.645444148906493\n",
       "\\item 0.405116105129661\n",
       "\\item 0.127071244215591\n",
       "\\item 0.0920123628311576\n",
       "\\item 0.05200208399397\n",
       "\\item 0.0153888237548378\n",
       "\\end{enumerate*}\n"
      ],
      "text/markdown": [
       "1. 5.66296523116828\n",
       "2. 0.645444148906493\n",
       "3. 0.405116105129661\n",
       "4. 0.127071244215591\n",
       "5. 0.0920123628311576\n",
       "6. 0.05200208399397\n",
       "7. 0.0153888237548378\n",
       "\n",
       "\n"
      ],
      "text/plain": [
       "[1] 5.6630 0.6454 0.4051 0.1271 0.0920 0.0520 0.0154"
      ]
     },
     "metadata": {},
     "output_type": "display_data"
    }
   ],
   "source": [
    "e4 <- eigen(R)\n",
    "e4_value <- e4$values\n",
    "Q4 <- e4$vectors\n",
    "print('eigenvalues are')\n",
    "e4_value\n"
   ]
  },
  {
   "cell_type": "code",
   "execution_count": 40,
   "metadata": {},
   "outputs": [
    {
     "name": "stdout",
     "output_type": "stream",
     "text": [
      "[1] \"matrix of eigenvector is\"\n"
     ]
    },
    {
     "data": {
      "text/html": [
       "<table>\n",
       "<tbody>\n",
       "\t<tr><td>-0.383 </td><td>-0.381 </td><td>-0.1623</td><td> 0.6010</td><td>-0.1531</td><td> 0.5436</td><td>-0.0407</td></tr>\n",
       "\t<tr><td>-0.388 </td><td>-0.393 </td><td>-0.1454</td><td> 0.2024</td><td> 0.0928</td><td>-0.7818</td><td> 0.1124</td></tr>\n",
       "\t<tr><td>-0.373 </td><td>-0.465 </td><td> 0.0403</td><td>-0.6845</td><td> 0.3192</td><td> 0.2677</td><td>-0.0320</td></tr>\n",
       "\t<tr><td>-0.398 </td><td> 0.120 </td><td> 0.2247</td><td>-0.2682</td><td>-0.8336</td><td>-0.0619</td><td> 0.0772</td></tr>\n",
       "\t<tr><td>-0.364 </td><td> 0.438 </td><td>-0.5428</td><td>-0.0884</td><td> 0.0659</td><td>-0.0410</td><td>-0.6060</td></tr>\n",
       "\t<tr><td>-0.384 </td><td> 0.470 </td><td>-0.1528</td><td> 0.0169</td><td> 0.2621</td><td> 0.1221</td><td> 0.7245</td></tr>\n",
       "\t<tr><td>-0.354 </td><td> 0.239 </td><td> 0.7632</td><td> 0.2220</td><td> 0.3131</td><td>-0.0339</td><td>-0.2942</td></tr>\n",
       "</tbody>\n",
       "</table>\n"
      ],
      "text/latex": [
       "\\begin{tabular}{lllllll}\n",
       "\t -0.383  & -0.381  & -0.1623 &  0.6010 & -0.1531 &  0.5436 & -0.0407\\\\\n",
       "\t -0.388  & -0.393  & -0.1454 &  0.2024 &  0.0928 & -0.7818 &  0.1124\\\\\n",
       "\t -0.373  & -0.465  &  0.0403 & -0.6845 &  0.3192 &  0.2677 & -0.0320\\\\\n",
       "\t -0.398  &  0.120  &  0.2247 & -0.2682 & -0.8336 & -0.0619 &  0.0772\\\\\n",
       "\t -0.364  &  0.438  & -0.5428 & -0.0884 &  0.0659 & -0.0410 & -0.6060\\\\\n",
       "\t -0.384  &  0.470  & -0.1528 &  0.0169 &  0.2621 &  0.1221 &  0.7245\\\\\n",
       "\t -0.354  &  0.239  &  0.7632 &  0.2220 &  0.3131 & -0.0339 & -0.2942\\\\\n",
       "\\end{tabular}\n"
      ],
      "text/markdown": [
       "\n",
       "| -0.383  | -0.381  | -0.1623 |  0.6010 | -0.1531 |  0.5436 | -0.0407 | \n",
       "| -0.388  | -0.393  | -0.1454 |  0.2024 |  0.0928 | -0.7818 |  0.1124 | \n",
       "| -0.373  | -0.465  |  0.0403 | -0.6845 |  0.3192 |  0.2677 | -0.0320 | \n",
       "| -0.398  |  0.120  |  0.2247 | -0.2682 | -0.8336 | -0.0619 |  0.0772 | \n",
       "| -0.364  |  0.438  | -0.5428 | -0.0884 |  0.0659 | -0.0410 | -0.6060 | \n",
       "| -0.384  |  0.470  | -0.1528 |  0.0169 |  0.2621 |  0.1221 |  0.7245 | \n",
       "| -0.354  |  0.239  |  0.7632 |  0.2220 |  0.3131 | -0.0339 | -0.2942 | \n",
       "\n",
       "\n"
      ],
      "text/plain": [
       "     [,1]   [,2]   [,3]    [,4]    [,5]    [,6]    [,7]   \n",
       "[1,] -0.383 -0.381 -0.1623  0.6010 -0.1531  0.5436 -0.0407\n",
       "[2,] -0.388 -0.393 -0.1454  0.2024  0.0928 -0.7818  0.1124\n",
       "[3,] -0.373 -0.465  0.0403 -0.6845  0.3192  0.2677 -0.0320\n",
       "[4,] -0.398  0.120  0.2247 -0.2682 -0.8336 -0.0619  0.0772\n",
       "[5,] -0.364  0.438 -0.5428 -0.0884  0.0659 -0.0410 -0.6060\n",
       "[6,] -0.384  0.470 -0.1528  0.0169  0.2621  0.1221  0.7245\n",
       "[7,] -0.354  0.239  0.7632  0.2220  0.3131 -0.0339 -0.2942"
      ]
     },
     "metadata": {},
     "output_type": "display_data"
    }
   ],
   "source": [
    "print('matrix of eigenvector is')\n",
    "Q4"
   ]
  },
  {
   "cell_type": "markdown",
   "metadata": {},
   "source": [
    "Each column of the above matrx is a eigenvector"
   ]
  },
  {
   "cell_type": "code",
   "execution_count": 48,
   "metadata": {},
   "outputs": [
    {
     "data": {
      "text/html": [
       "7"
      ],
      "text/latex": [
       "7"
      ],
      "text/markdown": [
       "7"
      ],
      "text/plain": [
       "[1] 7"
      ]
     },
     "metadata": {},
     "output_type": "display_data"
    },
    {
     "data": {
      "text/html": [
       "<ol class=list-inline>\n",
       "\t<li>54</li>\n",
       "\t<li>7</li>\n",
       "</ol>\n"
      ],
      "text/latex": [
       "\\begin{enumerate*}\n",
       "\\item 54\n",
       "\\item 7\n",
       "\\end{enumerate*}\n"
      ],
      "text/markdown": [
       "1. 54\n",
       "2. 7\n",
       "\n",
       "\n"
      ],
      "text/plain": [
       "[1] 54  7"
      ]
     },
     "metadata": {},
     "output_type": "display_data"
    }
   ],
   "source": [
    "round(sum(e4_value),2)\n",
    "dim(X)"
   ]
  },
  {
   "cell_type": "markdown",
   "metadata": {},
   "source": [
    "Sum of all eigenvalues is 7, which is exactly the number of col(parameter) in data matrix "
   ]
  },
  {
   "cell_type": "markdown",
   "metadata": {},
   "source": [
    "__(b) (i)__"
   ]
  },
  {
   "cell_type": "code",
   "execution_count": 69,
   "metadata": {},
   "outputs": [
    {
     "data": {
      "text/plain": [
       "Importance of components:\n",
       "                       Comp.1 Comp.2 Comp.3 Comp.4 Comp.5  Comp.6 Comp.7\n",
       "Standard deviation      2.380 0.8034 0.6365 0.3565 0.3033 0.22804 0.1241\n",
       "Proportion of Variance  0.809 0.0922 0.0579 0.0182 0.0131 0.00743 0.0022\n",
       "Cumulative Proportion   0.809 0.9012 0.9591 0.9772 0.9904 0.99780 1.0000\n",
       "\n",
       "Loadings:\n",
       "         Comp.1 Comp.2 Comp.3 Comp.4 Comp.5 Comp.6 Comp.7\n",
       "100m     -0.383 -0.381  0.162  0.601 -0.153 -0.544       \n",
       "200m     -0.388 -0.393  0.145  0.202         0.782 -0.112\n",
       "400m     -0.373 -0.465        -0.685  0.319 -0.268       \n",
       "800m     -0.398  0.120 -0.225 -0.268 -0.834              \n",
       "1500m    -0.364  0.438  0.543                       0.606\n",
       "3000m    -0.384  0.470  0.153         0.262 -0.122 -0.725\n",
       "Marathon -0.354  0.239 -0.763  0.222  0.313         0.294"
      ]
     },
     "metadata": {},
     "output_type": "display_data"
    }
   ],
   "source": [
    "X.pc = princomp(X,cor=T)\n",
    "summary(X.pc,loading=T)"
   ]
  },
  {
   "cell_type": "code",
   "execution_count": 54,
   "metadata": {},
   "outputs": [
    {
     "data": {
      "text/html": [
       "<table>\n",
       "<tbody>\n",
       "\t<tr><td>-0.383</td></tr>\n",
       "\t<tr><td>-0.388</td></tr>\n",
       "\t<tr><td>-0.373</td></tr>\n",
       "\t<tr><td>-0.398</td></tr>\n",
       "\t<tr><td>-0.364</td></tr>\n",
       "\t<tr><td>-0.384</td></tr>\n",
       "\t<tr><td>-0.354</td></tr>\n",
       "</tbody>\n",
       "</table>\n"
      ],
      "text/latex": [
       "\\begin{tabular}{l}\n",
       "\t -0.383\\\\\n",
       "\t -0.388\\\\\n",
       "\t -0.373\\\\\n",
       "\t -0.398\\\\\n",
       "\t -0.364\\\\\n",
       "\t -0.384\\\\\n",
       "\t -0.354\\\\\n",
       "\\end{tabular}\n"
      ],
      "text/markdown": [
       "\n",
       "| -0.383 | \n",
       "| -0.388 | \n",
       "| -0.373 | \n",
       "| -0.398 | \n",
       "| -0.364 | \n",
       "| -0.384 | \n",
       "| -0.354 | \n",
       "\n",
       "\n"
      ],
      "text/plain": [
       "     [,1]  \n",
       "[1,] -0.383\n",
       "[2,] -0.388\n",
       "[3,] -0.373\n",
       "[4,] -0.398\n",
       "[5,] -0.364\n",
       "[6,] -0.384\n",
       "[7,] -0.354"
      ]
     },
     "metadata": {},
     "output_type": "display_data"
    }
   ],
   "source": [
    "q1 = Q4[,1,drop=FALSE]\n",
    "q2 = Q4[,2,drop=FALSE]\n",
    "q1"
   ]
  },
  {
   "cell_type": "code",
   "execution_count": 53,
   "metadata": {},
   "outputs": [
    {
     "data": {
      "text/html": [
       "<table>\n",
       "<tbody>\n",
       "\t<tr><td>-0.381</td></tr>\n",
       "\t<tr><td>-0.393</td></tr>\n",
       "\t<tr><td>-0.465</td></tr>\n",
       "\t<tr><td> 0.120</td></tr>\n",
       "\t<tr><td> 0.438</td></tr>\n",
       "\t<tr><td> 0.470</td></tr>\n",
       "\t<tr><td> 0.239</td></tr>\n",
       "</tbody>\n",
       "</table>\n"
      ],
      "text/latex": [
       "\\begin{tabular}{l}\n",
       "\t -0.381\\\\\n",
       "\t -0.393\\\\\n",
       "\t -0.465\\\\\n",
       "\t  0.120\\\\\n",
       "\t  0.438\\\\\n",
       "\t  0.470\\\\\n",
       "\t  0.239\\\\\n",
       "\\end{tabular}\n"
      ],
      "text/markdown": [
       "\n",
       "| -0.381 | \n",
       "| -0.393 | \n",
       "| -0.465 | \n",
       "|  0.120 | \n",
       "|  0.438 | \n",
       "|  0.470 | \n",
       "|  0.239 | \n",
       "\n",
       "\n"
      ],
      "text/plain": [
       "     [,1]  \n",
       "[1,] -0.381\n",
       "[2,] -0.393\n",
       "[3,] -0.465\n",
       "[4,]  0.120\n",
       "[5,]  0.438\n",
       "[6,]  0.470\n",
       "[7,]  0.239"
      ]
     },
     "metadata": {},
     "output_type": "display_data"
    }
   ],
   "source": [
    "q2"
   ]
  },
  {
   "cell_type": "markdown",
   "metadata": {},
   "source": [
    "q1 and q2 are the first and second eigenvector in (a) <br>\n",
    "We can see that q1 = Comp.1; q2 = Comp.2; <br>\n",
    "Therefore PC1 and PC2 are same with the first two eigenvectors in (a)"
   ]
  },
  {
   "cell_type": "markdown",
   "metadata": {},
   "source": [
    "__(b) (ii)__"
   ]
  },
  {
   "cell_type": "markdown",
   "metadata": {},
   "source": [
    "From the summary table above: <br>\n",
    "90.12% of total sample variation is explained by the first and second PCs."
   ]
  },
  {
   "cell_type": "markdown",
   "metadata": {},
   "source": [
    "__(c) (i)__"
   ]
  },
  {
   "cell_type": "code",
   "execution_count": 140,
   "metadata": {},
   "outputs": [
    {
     "data": {
      "image/png": "[encoded data removed]",
      "text/plain": [
       "Plot with title “2D scatterplot of 54 obs in (PC1,PC2) plane”"
      ]
     },
     "metadata": {},
     "output_type": "display_data"
    }
   ],
   "source": [
    "library(ggplot2)\n",
    "plot(X.pc$scores[,1:2])\n",
    "title(\"2D scatterplot of 54 obs in (PC1,PC2) plane\")"
   ]
  },
  {
   "cell_type": "markdown",
   "metadata": {},
   "source": [
    "__(c) (ii)__"
   ]
  },
  {
   "cell_type": "code",
   "execution_count": 180,
   "metadata": {},
   "outputs": [
    {
     "data": {
      "text/html": [
       "<table>\n",
       "<thead><tr><th></th><th scope=col>Score</th></tr></thead>\n",
       "<tbody>\n",
       "\t<tr><th scope=row>USA</th><td>3.35</td></tr>\n",
       "\t<tr><th scope=row>GER</th><td>3.04</td></tr>\n",
       "\t<tr><th scope=row>RUS</th><td>3.01</td></tr>\n",
       "\t<tr><th scope=row>CHN</th><td>2.95</td></tr>\n",
       "\t<tr><th scope=row>FRA</th><td>2.53</td></tr>\n",
       "\t<tr><th scope=row>GBR</th><td>2.43</td></tr>\n",
       "</tbody>\n",
       "</table>\n"
      ],
      "text/latex": [
       "\\begin{tabular}{r|l}\n",
       "  & Score\\\\\n",
       "\\hline\n",
       "\tUSA & 3.35\\\\\n",
       "\tGER & 3.04\\\\\n",
       "\tRUS & 3.01\\\\\n",
       "\tCHN & 2.95\\\\\n",
       "\tFRA & 2.53\\\\\n",
       "\tGBR & 2.43\\\\\n",
       "\\end{tabular}\n"
      ],
      "text/markdown": [
       "\n",
       "| <!--/--> | Score | \n",
       "|---|---|---|---|---|---|\n",
       "| USA | 3.35 | \n",
       "| GER | 3.04 | \n",
       "| RUS | 3.01 | \n",
       "| CHN | 2.95 | \n",
       "| FRA | 2.53 | \n",
       "| GBR | 2.43 | \n",
       "\n",
       "\n"
      ],
      "text/plain": [
       "    Score\n",
       "USA 3.35 \n",
       "GER 3.04 \n",
       "RUS 3.01 \n",
       "CHN 2.95 \n",
       "FRA 2.53 \n",
       "GBR 2.43 "
      ]
     },
     "metadata": {},
     "output_type": "display_data"
    }
   ],
   "source": [
    "country_score <- matrix(X.pc$scores[,1], nrow = n, dimnames = list(CountryClasses, c(\"Score\")))\n",
    "country_rank <- as.data.frame(country_score)\n",
    "head(country_rank[order(-country_rank$Score), , drop = FALSE],n=6)"
   ]
  },
  {
   "cell_type": "markdown",
   "metadata": {},
   "source": [
    "__Rank-Top 6 nations__"
   ]
  },
  {
   "cell_type": "code",
   "execution_count": 183,
   "metadata": {},
   "outputs": [
    {
     "data": {
      "text/html": [
       "<table>\n",
       "<thead><tr><th></th><th scope=col>Score</th></tr></thead>\n",
       "<tbody>\n",
       "\t<tr><th scope=row>PNG</th><td>-4.64</td></tr>\n",
       "\t<tr><th scope=row>COK</th><td>-7.88</td></tr>\n",
       "\t<tr><th scope=row>SAM</th><td>-8.62</td></tr>\n",
       "</tbody>\n",
       "</table>\n"
      ],
      "text/latex": [
       "\\begin{tabular}{r|l}\n",
       "  & Score\\\\\n",
       "\\hline\n",
       "\tPNG & -4.64\\\\\n",
       "\tCOK & -7.88\\\\\n",
       "\tSAM & -8.62\\\\\n",
       "\\end{tabular}\n"
      ],
      "text/markdown": [
       "\n",
       "| <!--/--> | Score | \n",
       "|---|---|---|\n",
       "| PNG | -4.64 | \n",
       "| COK | -7.88 | \n",
       "| SAM | -8.62 | \n",
       "\n",
       "\n"
      ],
      "text/plain": [
       "    Score\n",
       "PNG -4.64\n",
       "COK -7.88\n",
       "SAM -8.62"
      ]
     },
     "metadata": {},
     "output_type": "display_data"
    }
   ],
   "source": [
    "tail(country_rank[order(-country_rank$Score), , drop = FALSE],n=3)"
   ]
  },
  {
   "cell_type": "markdown",
   "metadata": {},
   "source": [
    "__Rank-Last 3 nations__ <br>\n",
    "Yes, the rank corresponds with athletic excellence of countries"
   ]
  },
  {
   "cell_type": "markdown",
   "metadata": {},
   "source": [
    "# Question 5"
   ]
  },
  {
   "cell_type": "markdown",
   "metadata": {},
   "source": [
    "__(a)__"
   ]
  },
  {
   "cell_type": "code",
   "execution_count": 186,
   "metadata": {},
   "outputs": [
    {
     "data": {
      "text/html": [
       "<table>\n",
       "<thead><tr><th></th><th scope=col>Wind</th><th scope=col>Radiation</th><th scope=col>CO</th><th scope=col>NO</th><th scope=col>NO2</th><th scope=col>O3</th><th scope=col>HC</th></tr></thead>\n",
       "<tbody>\n",
       "\t<tr><th scope=row>Wind</th><td> 2.890 </td><td> -3.073</td><td>-0.183 </td><td>-0.317 </td><td>-0.439 </td><td>-1.598 </td><td>0.220  </td></tr>\n",
       "\t<tr><th scope=row>Radiation</th><td>-3.073 </td><td>290.369</td><td> 3.456 </td><td>-1.735 </td><td> 5.774 </td><td>29.599 </td><td>0.498  </td></tr>\n",
       "\t<tr><th scope=row>CO</th><td>-0.183 </td><td>  3.456</td><td> 1.522 </td><td> 0.674 </td><td> 2.315 </td><td> 2.822 </td><td>0.142  </td></tr>\n",
       "\t<tr><th scope=row>NO</th><td>-0.317 </td><td> -1.735</td><td> 0.674 </td><td> 1.182 </td><td> 1.088 </td><td>-0.811 </td><td>0.177  </td></tr>\n",
       "\t<tr><th scope=row>NO2</th><td>-0.439 </td><td>  5.774</td><td> 2.315 </td><td> 1.088 </td><td>11.364 </td><td> 3.127 </td><td>1.044  </td></tr>\n",
       "\t<tr><th scope=row>O3</th><td>-1.598 </td><td> 29.599</td><td> 2.822 </td><td>-0.811 </td><td> 3.127 </td><td>30.979 </td><td>0.595  </td></tr>\n",
       "\t<tr><th scope=row>HC</th><td> 0.220 </td><td>  0.498</td><td> 0.142 </td><td> 0.177 </td><td> 1.044 </td><td> 0.595 </td><td>0.479  </td></tr>\n",
       "</tbody>\n",
       "</table>\n"
      ],
      "text/latex": [
       "\\begin{tabular}{r|lllllll}\n",
       "  & Wind & Radiation & CO & NO & NO2 & O3 & HC\\\\\n",
       "\\hline\n",
       "\tWind &  2.890  &  -3.073 & -0.183  & -0.317  & -0.439  & -1.598  & 0.220  \\\\\n",
       "\tRadiation & -3.073  & 290.369 &  3.456  & -1.735  &  5.774  & 29.599  & 0.498  \\\\\n",
       "\tCO & -0.183  &   3.456 &  1.522  &  0.674  &  2.315  &  2.822  & 0.142  \\\\\n",
       "\tNO & -0.317  &  -1.735 &  0.674  &  1.182  &  1.088  & -0.811  & 0.177  \\\\\n",
       "\tNO2 & -0.439  &   5.774 &  2.315  &  1.088  & 11.364  &  3.127  & 1.044  \\\\\n",
       "\tO3 & -1.598  &  29.599 &  2.822  & -0.811  &  3.127  & 30.979  & 0.595  \\\\\n",
       "\tHC &  0.220  &   0.498 &  0.142  &  0.177  &  1.044  &  0.595  & 0.479  \\\\\n",
       "\\end{tabular}\n"
      ],
      "text/markdown": [
       "\n",
       "| <!--/--> | Wind | Radiation | CO | NO | NO2 | O3 | HC | \n",
       "|---|---|---|---|---|---|---|\n",
       "| Wind |  2.890  |  -3.073 | -0.183  | -0.317  | -0.439  | -1.598  | 0.220   | \n",
       "| Radiation | -3.073  | 290.369 |  3.456  | -1.735  |  5.774  | 29.599  | 0.498   | \n",
       "| CO | -0.183  |   3.456 |  1.522  |  0.674  |  2.315  |  2.822  | 0.142   | \n",
       "| NO | -0.317  |  -1.735 |  0.674  |  1.182  |  1.088  | -0.811  | 0.177   | \n",
       "| NO2 | -0.439  |   5.774 |  2.315  |  1.088  | 11.364  |  3.127  | 1.044   | \n",
       "| O3 | -1.598  |  29.599 |  2.822  | -0.811  |  3.127  | 30.979  | 0.595   | \n",
       "| HC |  0.220  |   0.498 |  0.142  |  0.177  |  1.044  |  0.595  | 0.479   | \n",
       "\n",
       "\n"
      ],
      "text/plain": [
       "          Wind   Radiation CO     NO     NO2    O3     HC   \n",
       "Wind       2.890  -3.073   -0.183 -0.317 -0.439 -1.598 0.220\n",
       "Radiation -3.073 290.369    3.456 -1.735  5.774 29.599 0.498\n",
       "CO        -0.183   3.456    1.522  0.674  2.315  2.822 0.142\n",
       "NO        -0.317  -1.735    0.674  1.182  1.088 -0.811 0.177\n",
       "NO2       -0.439   5.774    2.315  1.088 11.364  3.127 1.044\n",
       "O3        -1.598  29.599    2.822 -0.811  3.127 30.979 0.595\n",
       "HC         0.220   0.498    0.142  0.177  1.044  0.595 0.479"
      ]
     },
     "metadata": {},
     "output_type": "display_data"
    },
    {
     "name": "stdout",
     "output_type": "stream",
     "text": [
      "[1] \"---------Summary for original data-------------\"\n"
     ]
    },
    {
     "data": {
      "text/plain": [
       "Importance of components:\n",
       "                       Comp.1 Comp.2 Comp.3  Comp.4  Comp.5  Comp.6   Comp.7\n",
       "Standard deviation     16.939 5.2624 3.3459 1.67491 1.16713 0.71830 0.460998\n",
       "Proportion of Variance  0.868 0.0837 0.0339 0.00848 0.00412 0.00156 0.000643\n",
       "Cumulative Proportion   0.868 0.9513 0.9852 0.99368 0.99780 0.99936 1.000000\n",
       "\n",
       "Loadings:\n",
       "          Comp.1 Comp.2 Comp.3 Comp.4 Comp.5 Comp.6 Comp.7\n",
       "Wind                            0.976  0.156        -0.140\n",
       "Radiation -0.993  0.116                                   \n",
       "CO               -0.101 -0.182         0.644 -0.573  0.460\n",
       "NO                      -0.129 -0.175  0.715  0.500 -0.437\n",
       "NO2              -0.156 -0.955        -0.220        -0.110\n",
       "O3        -0.112 -0.974  0.174                            \n",
       "HC                              0.107         0.647  0.750"
      ]
     },
     "metadata": {},
     "output_type": "display_data"
    },
    {
     "name": "stdout",
     "output_type": "stream",
     "text": [
      "[1] \"-------Summary for standardlized data-----------\"\n"
     ]
    },
    {
     "data": {
      "text/plain": [
       "Importance of components:\n",
       "                       Comp.1 Comp.2 Comp.3 Comp.4 Comp.5 Comp.6 Comp.7\n",
       "Standard deviation      1.507  1.184  1.086  0.851  0.843 0.7414 0.4038\n",
       "Proportion of Variance  0.324  0.200  0.168  0.104  0.102 0.0785 0.0233\n",
       "Cumulative Proportion   0.324  0.525  0.693  0.797  0.898 0.9767 1.0000\n",
       "\n",
       "Loadings:\n",
       "          Comp.1 Comp.2 Comp.3 Comp.4 Comp.5 Comp.6 Comp.7\n",
       "Wind       0.126  0.305  0.691 -0.270  0.545         0.211\n",
       "Radiation -0.185 -0.560  0.166  0.644  0.457              \n",
       "CO        -0.559        -0.139 -0.383  0.369        -0.616\n",
       "NO        -0.378  0.425 -0.417  0.143  0.272  0.465  0.438\n",
       "NO2       -0.521  0.148  0.111        -0.183 -0.722  0.361\n",
       "O3        -0.314 -0.563  0.173 -0.488 -0.231  0.329  0.393\n",
       "HC        -0.353  0.269  0.510  0.314 -0.445  0.384 -0.314"
      ]
     },
     "metadata": {},
     "output_type": "display_data"
    }
   ],
   "source": [
    "air = read.table(\"p5.txt\")\n",
    "colnames(air) = c(\"Wind\", \"Radiation\", \"CO\", \"NO\", \"NO2\", \"O3\", \"HC\")\n",
    "cov(air)\n",
    "airPCA_o <- princomp(air)\n",
    "airPCA_s <- princomp(air,cor=T)\n",
    "print(\"---------Summary for original data-------------\")\n",
    "summary(airPCA_o,loadings = T)\n",
    "print(\"-------Summary for standardlized data-----------\")\n",
    "summary(airPCA_s,loadings = T)"
   ]
  },
  {
   "cell_type": "markdown",
   "metadata": {},
   "source": [
    "__For original data__: The first 2 components are needed to explain more than 90% of the variability in the data <br>\n",
    "__For standardized data__: The firat 5 components are needed to explain more than 90%(actually 89.8%, but could be round to 90%) of the variability in the data <br>"
   ]
  },
  {
   "cell_type": "markdown",
   "metadata": {},
   "source": [
    "__(b)__"
   ]
  },
  {
   "cell_type": "code",
   "execution_count": 185,
   "metadata": {},
   "outputs": [
    {
     "data": {
      "image/png": "[encoded data removed]",
      "text/plain": [
       "Plot with title “Scree plot - Original Data”"
      ]
     },
     "metadata": {},
     "output_type": "display_data"
    },
    {
     "data": {
      "image/png": "[encoded data removed]",
      "text/plain": [
       "Plot with title “Scree plot - Standardized Data”"
      ]
     },
     "metadata": {},
     "output_type": "display_data"
    }
   ],
   "source": [
    "#par(mfrow=c(1,2))\n",
    "screeplot(airPCA_o,type=\"l\",main =\"Scree plot - Original Data\")\n",
    "screeplot(airPCA_s,type=\"l\",main =\"Scree plot - Standardized Data\")"
   ]
  },
  {
   "cell_type": "markdown",
   "metadata": {},
   "source": [
    "__(c)__ <br>\n",
    "The first plot shows the amount of total variance explained in the different principal components wher we have not standardized the data. Here, only the first two component one explains 90% the variance in the data. <br>\n",
    "\n",
    "The second picture is after standardizing the data. Here it is clear that the other components contribute as well. The reason for this is because PCA seeks to maximize the variance of each component. And since the covariance matrix of this particular dataset is:"
   ]
  },
  {
   "cell_type": "code",
   "execution_count": 192,
   "metadata": {},
   "outputs": [
    {
     "data": {
      "text/html": [
       "<table>\n",
       "<thead><tr><th></th><th scope=col>Wind</th><th scope=col>Radiation</th><th scope=col>CO</th><th scope=col>NO</th><th scope=col>NO2</th><th scope=col>O3</th><th scope=col>HC</th></tr></thead>\n",
       "<tbody>\n",
       "\t<tr><th scope=row>Wind</th><td> 2.890 </td><td> -3.073</td><td>-0.183 </td><td>-0.317 </td><td>-0.439 </td><td>-1.598 </td><td>0.220  </td></tr>\n",
       "\t<tr><th scope=row>Radiation</th><td>-3.073 </td><td>290.369</td><td> 3.456 </td><td>-1.735 </td><td> 5.774 </td><td>29.599 </td><td>0.498  </td></tr>\n",
       "\t<tr><th scope=row>CO</th><td>-0.183 </td><td>  3.456</td><td> 1.522 </td><td> 0.674 </td><td> 2.315 </td><td> 2.822 </td><td>0.142  </td></tr>\n",
       "\t<tr><th scope=row>NO</th><td>-0.317 </td><td> -1.735</td><td> 0.674 </td><td> 1.182 </td><td> 1.088 </td><td>-0.811 </td><td>0.177  </td></tr>\n",
       "\t<tr><th scope=row>NO2</th><td>-0.439 </td><td>  5.774</td><td> 2.315 </td><td> 1.088 </td><td>11.364 </td><td> 3.127 </td><td>1.044  </td></tr>\n",
       "\t<tr><th scope=row>O3</th><td>-1.598 </td><td> 29.599</td><td> 2.822 </td><td>-0.811 </td><td> 3.127 </td><td>30.979 </td><td>0.595  </td></tr>\n",
       "\t<tr><th scope=row>HC</th><td> 0.220 </td><td>  0.498</td><td> 0.142 </td><td> 0.177 </td><td> 1.044 </td><td> 0.595 </td><td>0.479  </td></tr>\n",
       "</tbody>\n",
       "</table>\n"
      ],
      "text/latex": [
       "\\begin{tabular}{r|lllllll}\n",
       "  & Wind & Radiation & CO & NO & NO2 & O3 & HC\\\\\n",
       "\\hline\n",
       "\tWind &  2.890  &  -3.073 & -0.183  & -0.317  & -0.439  & -1.598  & 0.220  \\\\\n",
       "\tRadiation & -3.073  & 290.369 &  3.456  & -1.735  &  5.774  & 29.599  & 0.498  \\\\\n",
       "\tCO & -0.183  &   3.456 &  1.522  &  0.674  &  2.315  &  2.822  & 0.142  \\\\\n",
       "\tNO & -0.317  &  -1.735 &  0.674  &  1.182  &  1.088  & -0.811  & 0.177  \\\\\n",
       "\tNO2 & -0.439  &   5.774 &  2.315  &  1.088  & 11.364  &  3.127  & 1.044  \\\\\n",
       "\tO3 & -1.598  &  29.599 &  2.822  & -0.811  &  3.127  & 30.979  & 0.595  \\\\\n",
       "\tHC &  0.220  &   0.498 &  0.142  &  0.177  &  1.044  &  0.595  & 0.479  \\\\\n",
       "\\end{tabular}\n"
      ],
      "text/markdown": [
       "\n",
       "| <!--/--> | Wind | Radiation | CO | NO | NO2 | O3 | HC | \n",
       "|---|---|---|---|---|---|---|\n",
       "| Wind |  2.890  |  -3.073 | -0.183  | -0.317  | -0.439  | -1.598  | 0.220   | \n",
       "| Radiation | -3.073  | 290.369 |  3.456  | -1.735  |  5.774  | 29.599  | 0.498   | \n",
       "| CO | -0.183  |   3.456 |  1.522  |  0.674  |  2.315  |  2.822  | 0.142   | \n",
       "| NO | -0.317  |  -1.735 |  0.674  |  1.182  |  1.088  | -0.811  | 0.177   | \n",
       "| NO2 | -0.439  |   5.774 |  2.315  |  1.088  | 11.364  |  3.127  | 1.044   | \n",
       "| O3 | -1.598  |  29.599 |  2.822  | -0.811  |  3.127  | 30.979  | 0.595   | \n",
       "| HC |  0.220  |   0.498 |  0.142  |  0.177  |  1.044  |  0.595  | 0.479   | \n",
       "\n",
       "\n"
      ],
      "text/plain": [
       "          Wind   Radiation CO     NO     NO2    O3     HC   \n",
       "Wind       2.890  -3.073   -0.183 -0.317 -0.439 -1.598 0.220\n",
       "Radiation -3.073 290.369    3.456 -1.735  5.774 29.599 0.498\n",
       "CO        -0.183   3.456    1.522  0.674  2.315  2.822 0.142\n",
       "NO        -0.317  -1.735    0.674  1.182  1.088 -0.811 0.177\n",
       "NO2       -0.439   5.774    2.315  1.088 11.364  3.127 1.044\n",
       "O3        -1.598  29.599    2.822 -0.811  3.127 30.979 0.595\n",
       "HC         0.220   0.498    0.142  0.177  1.044  0.595 0.479"
      ]
     },
     "metadata": {},
     "output_type": "display_data"
    }
   ],
   "source": [
    "cov(air)"
   ]
  },
  {
   "cell_type": "markdown",
   "metadata": {},
   "source": [
    "From this structure the PCA will of course select to project as much as possible in the direction of Wind since that variance is much greater. So for finding features usable for any kind of model a PCA without normalization would perform badly."
   ]
  },
  {
   "cell_type": "code",
   "execution_count": null,
   "metadata": {
    "collapsed": true
   },
   "outputs": [],
   "source": []
  }
 ],
 "metadata": {
  "kernelspec": {
   "display_name": "R",
   "language": "R",
   "name": "ir"
  },
  "language_info": {
   "codemirror_mode": "r",
   "file_extension": ".r",
   "mimetype": "text/x-r-source",
   "name": "R",
   "pygments_lexer": "r",
   "version": "3.4.2"
  }
 },
 "nbformat": 4,
 "nbformat_minor": 2
}
